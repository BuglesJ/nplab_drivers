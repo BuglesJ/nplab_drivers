{
 "cells": [
  {
   "cell_type": "code",
   "execution_count": 1,
   "metadata": {},
   "outputs": [
    {
     "name": "stderr",
     "output_type": "stream",
     "text": [
      "/Users/robertpolski/anaconda/envs/qcodes/lib/python3.6/site-packages/h5py/__init__.py:36: FutureWarning: Conversion of the second argument of issubdtype from `float` to `np.floating` is deprecated. In future, it will be treated as `np.float64 == np.dtype(float).type`.\n",
      "  from ._conv import register_converters as _register_converters\n"
     ]
    }
   ],
   "source": [
    "import qcodes as qc\n",
    "import numpy as np\n",
    "from qcodes.instrument_drivers.nplab_drivers.OpenDacs_Seekat import Seekat\n",
    "from qcodes.instrument_drivers.nplab_drivers.Keithley_2200 import Keithley_2200\n",
    "from qcodes.instrument_drivers.tektronix.Keithley_2000 import Keithley_2000\n",
    "import time"
   ]
  },
  {
   "cell_type": "code",
   "execution_count": 2,
   "metadata": {
    "scrolled": true
   },
   "outputs": [
    {
     "name": "stdout",
     "output_type": "stream",
     "text": [
      "True\n",
      "Connected to  /dev/cu.usbmodem14511441\n",
      "Connected to: Keithley Instruments 2200-72-1 (serial:9200719, firmware:1.28-1.26) in 1.19s\n",
      "Connected to: KEITHLEY INSTRUMENTS INC. 2015 (serial:1009073, firmware:B15  /A02) in 0.07s\n"
     ]
    }
   ],
   "source": [
    "seekat = Seekat('seekat', '/dev/cu.usbmodem14511441', timeout=5)\n",
    "k2200 = Keithley_2200('k2200', 'GPIB::19::INSTR')\n",
    "k2015 = Keithley_2000('k2015', 'GPIB::1::INSTR')"
   ]
  },
  {
   "cell_type": "code",
   "execution_count": 3,
   "metadata": {},
   "outputs": [
    {
     "name": "stdout",
     "output_type": "stream",
     "text": [
      "dc voltage\n"
     ]
    }
   ],
   "source": [
    "print(k2015.mode())\n",
    "k2015.mode('dc voltage')  # other modes are ac voltage, dc(ac) current\n",
    "k2200.voltage(20)\n",
    "k2200.current(.1)\n",
    "k2200.output(1)"
   ]
  },
  {
   "cell_type": "code",
   "execution_count": 4,
   "metadata": {},
   "outputs": [
    {
     "name": "stdout",
     "output_type": "stream",
     "text": [
      "0.1\n",
      "True\n",
      "1.84587465\n"
     ]
    }
   ],
   "source": [
    "k2200.voltage(0.02)\n",
    "seekat.ch5(8)\n",
    "seekat.ch6(9)\n",
    "seekat.ch8(-4)\n",
    "k2015.range(0.1)\n",
    "k2015.auto_range_enabled(True)\n",
    "print(k2015.range())\n",
    "print(k2015.auto_range_enabled())\n",
    "print(k2015.amplitude())"
   ]
  },
  {
   "cell_type": "code",
   "execution_count": 8,
   "metadata": {},
   "outputs": [
    {
     "name": "stdout",
     "output_type": "stream",
     "text": [
      "39.9967919\n",
      "40.0018\n",
      "0.000631332\n"
     ]
    }
   ],
   "source": [
    "k2200.voltage(40)\n",
    "time.sleep(1)  # needs a half-second or so to set up to 40 V\n",
    "print(k2015.amplitude())\n",
    "print(k2200.voltage())\n",
    "print(k2200.current())"
   ]
  },
  {
   "cell_type": "code",
   "execution_count": 9,
   "metadata": {},
   "outputs": [],
   "source": [
    "k2200.voltage(0)\n",
    "seekat.reset()"
   ]
  },
  {
   "cell_type": "code",
   "execution_count": 10,
   "metadata": {},
   "outputs": [],
   "source": [
    "seekat.close()\n",
    "k2200.close()\n",
    "k2015.close()"
   ]
  }
 ],
 "metadata": {
  "kernelspec": {
   "display_name": "Environment (conda_qcodes)",
   "language": "python",
   "name": "conda_qcodes"
  },
  "language_info": {
   "codemirror_mode": {
    "name": "ipython",
    "version": 3
   },
   "file_extension": ".py",
   "mimetype": "text/x-python",
   "name": "python",
   "nbconvert_exporter": "python",
   "pygments_lexer": "ipython3",
   "version": "3.6.4"
  }
 },
 "nbformat": 4,
 "nbformat_minor": 2
}
